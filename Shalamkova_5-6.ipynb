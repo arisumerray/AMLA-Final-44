{
 "cells": [
  {
   "cell_type": "markdown",
   "metadata": {},
   "source": [
    "5ый номер"
   ]
  },
  {
   "cell_type": "code",
   "execution_count": 45,
   "metadata": {},
   "outputs": [
    {
     "name": "stdout",
     "output_type": "stream",
     "text": [
      "5\n",
      "[[0.09783974]\n",
      " [0.11751881]\n",
      " [0.1492688 ]]\n"
     ]
    }
   ],
   "source": [
    "import numpy as np\n",
    "P=np.array([[0,-1/27,-8/27],[-8/25,0,-8/25],[-3/23,-2/23,0]])\n",
    "c=np.array([[4/27],[1/5],[4/23]])\n",
    "x_curr = np.array([[0],[0],[0]])\n",
    "for i in range(1,50):\n",
    "    x_new = P@x_curr+c\n",
    "    if(np.absolute(x_new-x_curr)<=0.01).all():\n",
    "        print(i)\n",
    "        print(x_curr)\n",
    "        break\n",
    "    x_curr = x_new"
   ]
  },
  {
   "cell_type": "code",
   "execution_count": 43,
   "metadata": {},
   "outputs": [],
   "source": [
    "P=np.array([[0,-1/27,-8/27],[-8/25,0,-8/25],[-3/23,-2/23,0]])\n",
    "c=np.array([[4/27],[1/5],[4/23]])\n",
    "x_curr_50 = np.array([[0],[0],[0]])\n",
    "for i in range(1,50):\n",
    "    x_new = P@x_curr_50+c\n",
    "    x_curr_50 = x_new"
   ]
  },
  {
   "cell_type": "code",
   "execution_count": 44,
   "metadata": {},
   "outputs": [
    {
     "data": {
      "text/plain": [
       "array([[0.09909412],\n",
       "       [0.12011617],\n",
       "       [0.15054284]])"
      ]
     },
     "execution_count": 44,
     "metadata": {},
     "output_type": "execute_result"
    }
   ],
   "source": [
    "x_curr_50"
   ]
  },
  {
   "cell_type": "code",
   "execution_count": 46,
   "metadata": {},
   "outputs": [
    {
     "name": "stdout",
     "output_type": "stream",
     "text": [
      "[[0.00125437]\n",
      " [0.00259736]\n",
      " [0.00127404]]\n"
     ]
    }
   ],
   "source": [
    "# ошибка между 50-ой и 5-ой итерацией\n",
    "print(np.absolute(x_curr_50-x_curr))"
   ]
  },
  {
   "cell_type": "markdown",
   "metadata": {},
   "source": [
    "6ой номер"
   ]
  },
  {
   "cell_type": "code",
   "execution_count": 47,
   "metadata": {},
   "outputs": [],
   "source": [
    "P=np.array([[1/4,1/4,0,1/4,0],[0,0,1/3,1/4,0],[1/4,1/4,1/3,1/4,0],[1/4,1/4,1/3,0,0],[1/4,1/4,0,1/4,1]])"
   ]
  },
  {
   "cell_type": "code",
   "execution_count": 50,
   "metadata": {},
   "outputs": [
    {
     "data": {
      "text/plain": [
       "array([[0.2425    , 0.2425    , 0.03      , 0.2425    , 0.03      ],\n",
       "       [0.03      , 0.03      , 0.31333333, 0.2425    , 0.03      ],\n",
       "       [0.2425    , 0.2425    , 0.31333333, 0.2425    , 0.03      ],\n",
       "       [0.2425    , 0.2425    , 0.31333333, 0.03      , 0.03      ],\n",
       "       [0.2425    , 0.2425    , 0.03      , 0.2425    , 0.88      ]])"
      ]
     },
     "execution_count": 50,
     "metadata": {},
     "output_type": "execute_result"
    }
   ],
   "source": [
    "alpha = 0.85\n",
    "beta = 0.15\n",
    "Q = alpha*P + 0.15/5*np.ones((5,5))\n",
    "Q"
   ]
  },
  {
   "cell_type": "code",
   "execution_count": 54,
   "metadata": {},
   "outputs": [
    {
     "name": "stdout",
     "output_type": "stream",
     "text": [
      "[0.08937857 0.08719286 0.12471429 0.10285714 0.59585714]\n",
      "самая влиятельная вершина под номером 5\n"
     ]
    }
   ],
   "source": [
    "x=np.ones(5)/5\n",
    "for i in range(500):\n",
    "    x = Q@x\n",
    "print(x)\n",
    "print(f\"самая влиятельная вершина под номером {np.argmax(x)+1}\")"
   ]
  }
 ],
 "metadata": {
  "kernelspec": {
   "display_name": "iad",
   "language": "python",
   "name": "python3"
  },
  "language_info": {
   "codemirror_mode": {
    "name": "ipython",
    "version": 3
   },
   "file_extension": ".py",
   "mimetype": "text/x-python",
   "name": "python",
   "nbconvert_exporter": "python",
   "pygments_lexer": "ipython3",
   "version": "3.9.18"
  }
 },
 "nbformat": 4,
 "nbformat_minor": 2
}
